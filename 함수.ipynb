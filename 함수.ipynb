{
  "nbformat": 4,
  "nbformat_minor": 0,
  "metadata": {
    "colab": {
      "provenance": [],
      "toc_visible": true,
      "authorship_tag": "ABX9TyOpA79j/dW07TXiYv5IJQpt",
      "include_colab_link": true
    },
    "kernelspec": {
      "name": "python3",
      "display_name": "Python 3"
    },
    "language_info": {
      "name": "python"
    }
  },
  "cells": [
    {
      "cell_type": "markdown",
      "metadata": {
        "id": "view-in-github",
        "colab_type": "text"
      },
      "source": [
        "<a href=\"https://colab.research.google.com/github/koreanum1/python_sample_test/blob/main/%ED%95%A8%EC%88%98.ipynb\" target=\"_parent\"><img src=\"https://colab.research.google.com/assets/colab-badge.svg\" alt=\"Open In Colab\"/></a>"
      ]
    },
    {
      "cell_type": "markdown",
      "source": [
        "# 1. 함수\n",
        "\n",
        "    정의 : 어떤일을 수행하는 코드의 묶음\n",
        "\n",
        "   *ex) print( 데이터 )  # ‘데이터’를 화면에 출력하는 내장함수*\n",
        "\n",
        "    숫자를 넣어주면 1을 더한 값을 반환하는 함수"
      ],
      "metadata": {
        "id": "ydC6N8liwWFP"
      }
    },
    {
      "cell_type": "code",
      "source": [
        "def func_add ( a ) :\t# 함수선언이름(매개변수)\n",
        "\tx = a+1\n",
        "\treturn x\t\t\t# 결과 응답\n",
        "\n",
        "ret = func_add(3)\t\t# 함수호출 입력3, 반환?\n",
        "print(ret)\t\t\t\t# 화면에 표시한다"
      ],
      "metadata": {
        "colab": {
          "base_uri": "https://localhost:8080/"
        },
        "id": "FzglIV8K-d7Z",
        "outputId": "87df73da-9f01-4928-d579-3524e1b8bc23"
      },
      "execution_count": 2,
      "outputs": [
        {
          "output_type": "stream",
          "name": "stdout",
          "text": [
            "4\n"
          ]
        }
      ]
    },
    {
      "cell_type": "markdown",
      "source": [
        "\n",
        "\n",
        "```\n",
        "def  함수이름 (parameter1,2,..)\n",
        "\tx = 동작\n",
        "\treturn x\n",
        "\n",
        "```\n",
        "\n"
      ],
      "metadata": {
        "id": "fQZE_MOcwiJJ"
      }
    },
    {
      "cell_type": "code",
      "source": [
        "def func_add ( a,b ) :\t# 함수선언 이름(매개변수)\n",
        "\tx = a + b\t\t\t# 함수 내부동작\n",
        "\treturn x\t\t\t# 결과 응답\n",
        "ret = func_add(3,4)\t# 함수호출 입력3,4 반환 ?\n",
        "display.show(ret)\t\t# 화면에 표시한다\n"
      ],
      "metadata": {
        "id": "z-MiRSn1_ZwE"
      },
      "execution_count": null,
      "outputs": []
    }
  ]
}
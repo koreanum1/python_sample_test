{
  "cells": [
    {
      "cell_type": "markdown",
      "metadata": {
        "id": "view-in-github",
        "colab_type": "text"
      },
      "source": [
        "<a href=\"https://colab.research.google.com/github/koreanum1/python_sample_test/blob/main/googleCoLab_test_002.ipynb\" target=\"_parent\"><img src=\"https://colab.research.google.com/assets/colab-badge.svg\" alt=\"Open In Colab\"/></a>"
      ]
    },
    {
      "cell_type": "code",
      "source": [
        "from google.colab import drive\n",
        "drive.mount('/content/drive')"
      ],
      "metadata": {
        "id": "mkenToLhkypB"
      },
      "execution_count": null,
      "outputs": []
    },
    {
      "cell_type": "code",
      "source": [
        "import random"
      ],
      "metadata": {
        "id": "7t6aXrj0hX7e"
      },
      "execution_count": null,
      "outputs": []
    },
    {
      "cell_type": "code",
      "execution_count": null,
      "metadata": {
        "colab": {
          "base_uri": "https://localhost:8080/"
        },
        "id": "uqlSrIMlcgmp",
        "outputId": "8a3463c9-28e8-4ac9-989d-6e7b5b4f2b8e"
      },
      "outputs": [
        {
          "output_type": "stream",
          "name": "stdout",
          "text": [
            "Hello CoLab, Nice World~!\n"
          ]
        }
      ],
      "source": [
        "print(\"Hello CoLab, Nice World~!\")"
      ]
    },
    {
      "cell_type": "markdown",
      "metadata": {
        "id": "ujnqoz98dZc3"
      },
      "source": [
        "#구글 코랩으로 문서만들기 \n",
        "\n",
        "### [1] 첫번째"
      ]
    },
    {
      "cell_type": "markdown",
      "metadata": {
        "id": "ycEwWCMtcqUP"
      },
      "source": [
        "\n",
        "**이것은 구글 코랩으로 작성된 문서입니다.**\n",
        "\n",
        "파이썬 수업의 설명은 앞으로 이것으로 하는게 `좋을 것 같습니다.`\n",
        "\n",
        "*어떻게 생각하시나요?*\n"
      ]
    },
    {
      "cell_type": "code",
      "source": [
        "rand = random.randint(1,100)\n",
        "print ('random number : ', rand)"
      ],
      "metadata": {
        "colab": {
          "base_uri": "https://localhost:8080/"
        },
        "id": "QNkq0xtXhQ1Y",
        "outputId": "d09cebf4-6fca-4cd0-fa3e-8d32be7ddc9f"
      },
      "execution_count": null,
      "outputs": [
        {
          "output_type": "stream",
          "name": "stdout",
          "text": [
            "random number :  33\n"
          ]
        }
      ]
    },
    {
      "cell_type": "markdown",
      "source": [
        "추출된 random number는 위와 같은 결과 였습니다. (페이지가 실행될때마다 결과는 변경될 수 있음)"
      ],
      "metadata": {
        "id": "U0gKrfvIhiHt"
      }
    }
  ],
  "metadata": {
    "colab": {
      "provenance": [],
      "include_colab_link": true
    },
    "kernelspec": {
      "display_name": "Python 3 (ipykernel)",
      "language": "python",
      "name": "python3"
    },
    "language_info": {
      "codemirror_mode": {
        "name": "ipython",
        "version": 3
      },
      "file_extension": ".py",
      "mimetype": "text/x-python",
      "name": "python",
      "nbconvert_exporter": "python",
      "pygments_lexer": "ipython3",
      "version": "3.9.13"
    }
  },
  "nbformat": 4,
  "nbformat_minor": 0
}